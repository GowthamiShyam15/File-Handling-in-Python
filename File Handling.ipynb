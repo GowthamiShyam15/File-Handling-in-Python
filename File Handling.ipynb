{
 "cells": [
  {
   "cell_type": "markdown",
   "id": "f91936cb",
   "metadata": {},
   "source": [
    "# File Handling"
   ]
  },
  {
   "cell_type": "code",
   "execution_count": 1,
   "id": "ea015ec1",
   "metadata": {},
   "outputs": [],
   "source": [
    "#create a new file and writing data ->\"w\"\n",
    "\n",
    "f = open(\"sample.txt\",\"w\")\n",
    "f.write(\"Hello....\")\n",
    "f.close()"
   ]
  },
  {
   "cell_type": "code",
   "execution_count": 2,
   "id": "ee2a5bff",
   "metadata": {},
   "outputs": [],
   "source": [
    "#files exists and writing data -> rewrite(deletes old data and adds new data in the given file)\n",
    "\n",
    "f = open(\"sample.txt\",\"w\")\n",
    "f.write(\"Good afternoon, welcome to python class..\")\n",
    "f.close()"
   ]
  },
  {
   "cell_type": "code",
   "execution_count": 3,
   "id": "e7dbe6d9",
   "metadata": {},
   "outputs": [],
   "source": [
    "import os"
   ]
  },
  {
   "cell_type": "code",
   "execution_count": 4,
   "id": "ebf11d6d",
   "metadata": {},
   "outputs": [
    {
     "name": "stdout",
     "output_type": "stream",
     "text": [
      "C:\\Users\\Admin\\OneDrive\\Desktop\\RE-Python\\12pm-2pm\n"
     ]
    }
   ],
   "source": [
    "print(os.getcwd())"
   ]
  },
  {
   "cell_type": "code",
   "execution_count": 6,
   "id": "dbc7e8d8",
   "metadata": {},
   "outputs": [],
   "source": [
    "os.chdir(\"C:\\\\Users\\\\Admin\\\\OneDrive\\\\Desktop\\\\New folder\")"
   ]
  },
  {
   "cell_type": "code",
   "execution_count": 7,
   "id": "fe4c55cf",
   "metadata": {},
   "outputs": [
    {
     "name": "stdout",
     "output_type": "stream",
     "text": [
      "C:\\Users\\Admin\\OneDrive\\Desktop\\New folder\n"
     ]
    }
   ],
   "source": [
    "print(os.getcwd())"
   ]
  },
  {
   "cell_type": "code",
   "execution_count": 8,
   "id": "b4b822ea",
   "metadata": {},
   "outputs": [],
   "source": [
    "#create a new file and add a new data -> \"a\"\n",
    "\n",
    "f1= open(\"text.doc\",\"a\")\n",
    "f1.write(\"Welcome to Online Course.\")\n",
    "f1.close()"
   ]
  },
  {
   "cell_type": "code",
   "execution_count": 9,
   "id": "f7ce0021",
   "metadata": {},
   "outputs": [],
   "source": [
    "#files exists and adding extra data -> adds new data to exsiting data\n",
    "\n",
    "f = open(\"text.doc\",\"a\")\n",
    "f.write(\"Good afternoon, welcome to python class..\")\n",
    "f.close()"
   ]
  },
  {
   "cell_type": "code",
   "execution_count": 10,
   "id": "fdb2b13c",
   "metadata": {},
   "outputs": [
    {
     "name": "stdout",
     "output_type": "stream",
     "text": [
      "Welcome to Online Course.Good afternoon, welcome to python class..\n"
     ]
    }
   ],
   "source": [
    "#reading data from existing files\n",
    "\n",
    "f = open(\"text.doc\",\"r\")\n",
    "print(f.read())\n",
    "f.close()"
   ]
  },
  {
   "cell_type": "code",
   "execution_count": 11,
   "id": "f9bc4998",
   "metadata": {},
   "outputs": [],
   "source": [
    "os.chdir(\"C:\\\\Users\\\\Admin\\\\OneDrive\\\\Desktop\\\\RE-Python\\\\12pm-2pm\")"
   ]
  },
  {
   "cell_type": "code",
   "execution_count": 12,
   "id": "71d911d1",
   "metadata": {},
   "outputs": [
    {
     "name": "stdout",
     "output_type": "stream",
     "text": [
      "Good afternoon, welcome to python class..\n"
     ]
    }
   ],
   "source": [
    "f = open(\"sample.txt\",\"r\")\n",
    "print(f.read())\n",
    "f.close()"
   ]
  },
  {
   "cell_type": "code",
   "execution_count": 13,
   "id": "31358dc0",
   "metadata": {},
   "outputs": [],
   "source": [
    "#rename()\n",
    "\n",
    "os.rename(\"sample.txt\",\"text.txt\")"
   ]
  },
  {
   "cell_type": "code",
   "execution_count": 14,
   "id": "342c3b49",
   "metadata": {},
   "outputs": [],
   "source": [
    "#delete\n",
    "\n",
    "os.unlink(\"text.txt\")"
   ]
  },
  {
   "cell_type": "markdown",
   "id": "a574e9d6",
   "metadata": {},
   "source": [
    "# pandas"
   ]
  },
  {
   "cell_type": "code",
   "execution_count": 15,
   "id": "9e0ea8a5",
   "metadata": {},
   "outputs": [
    {
     "name": "stdout",
     "output_type": "stream",
     "text": [
      "Requirement already satisfied: pandas in c:\\users\\admin\\appdata\\local\\programs\\python\\python310\\lib\\site-packages (1.4.2)\n",
      "Requirement already satisfied: python-dateutil>=2.8.1 in c:\\users\\admin\\appdata\\local\\programs\\python\\python310\\lib\\site-packages (from pandas) (2.8.2)\n",
      "Requirement already satisfied: pytz>=2020.1 in c:\\users\\admin\\appdata\\local\\programs\\python\\python310\\lib\\site-packages (from pandas) (2022.1)\n",
      "Requirement already satisfied: numpy>=1.21.0 in c:\\users\\admin\\appdata\\local\\programs\\python\\python310\\lib\\site-packages (from pandas) (1.23.5)\n",
      "Requirement already satisfied: six>=1.5 in c:\\users\\admin\\appdata\\local\\programs\\python\\python310\\lib\\site-packages (from python-dateutil>=2.8.1->pandas) (1.16.0)\n"
     ]
    },
    {
     "name": "stderr",
     "output_type": "stream",
     "text": [
      "WARNING: Ignoring invalid distribution -cikit-learn (c:\\users\\admin\\appdata\\local\\programs\\python\\python310\\lib\\site-packages)\n",
      "WARNING: Ignoring invalid distribution -cikit-learn (c:\\users\\admin\\appdata\\local\\programs\\python\\python310\\lib\\site-packages)\n",
      "\n",
      "[notice] A new release of pip is available: 23.3.2 -> 24.0\n",
      "[notice] To update, run: python.exe -m pip install --upgrade pip\n"
     ]
    }
   ],
   "source": [
    "!pip install pandas"
   ]
  },
  {
   "cell_type": "code",
   "execution_count": 16,
   "id": "60737e9f",
   "metadata": {},
   "outputs": [],
   "source": [
    "import pandas as pd"
   ]
  },
  {
   "cell_type": "code",
   "execution_count": 17,
   "id": "cdf1045d",
   "metadata": {},
   "outputs": [],
   "source": [
    "d = {\"STNAME\":[\"Sai\",\"Hari\",\"Laxmi\",\"Kiran\",\"Jai\"],\"IDNO\":[1,2,3,4,5],\"COURSE\":[\"Python\",\"HTML\",\"CSS\",\"JS\",\"C++\"]}\n",
    "\n",
    "df = pd.DataFrame(d)\n",
    "df.to_excel(\"student1.xlsx\",index=False)"
   ]
  },
  {
   "cell_type": "code",
   "execution_count": 18,
   "id": "0f4b1d6e",
   "metadata": {},
   "outputs": [
    {
     "name": "stdout",
     "output_type": "stream",
     "text": [
      "  STNAME  IDNO  COURSE\n",
      "0    Sai     1  Python\n",
      "1   Hari     2    HTML\n",
      "2  Laxmi     3     CSS\n",
      "3  Kiran     4      JS\n",
      "4    Jai     5     C++\n"
     ]
    }
   ],
   "source": [
    "print(pd.read_excel(\"C:\\\\Users\\\\Admin\\\\OneDrive\\\\Desktop\\\\RE-Python\\\\12pm-2pm\\\\student1.xlsx\"))"
   ]
  },
  {
   "cell_type": "code",
   "execution_count": null,
   "id": "fa88aec9",
   "metadata": {},
   "outputs": [],
   "source": []
  }
 ],
 "metadata": {
  "kernelspec": {
   "display_name": "Python 3 (ipykernel)",
   "language": "python",
   "name": "python3"
  },
  "language_info": {
   "codemirror_mode": {
    "name": "ipython",
    "version": 3
   },
   "file_extension": ".py",
   "mimetype": "text/x-python",
   "name": "python",
   "nbconvert_exporter": "python",
   "pygments_lexer": "ipython3",
   "version": "3.10.4"
  }
 },
 "nbformat": 4,
 "nbformat_minor": 5
}
